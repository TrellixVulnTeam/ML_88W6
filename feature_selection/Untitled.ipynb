{
 "cells": [
  {
   "cell_type": "markdown",
   "metadata": {},
   "source": [
    "## **Entropy, Cross-Entropy and KL-divergence **"
   ]
  },
  {
   "cell_type": "markdown",
   "metadata": {},
   "source": [
    "**Entropy**\n",
    "\n",
    "The measure of information entropy associated with each possible data value is the negative logarithm of the probability mass function for the value. Thus, when the data source has a lower-probability value (i.e., when a low-probability event occurs), the event carries more \"information\" (\"surprisal\") than when the source data has a higher-probability value.\n",
    "\n",
    "\\begin{equation*}\n",
    "{\\displaystyle S=-k_{\\text{B}}\\sum p_{i}\\ln p_{i}\\,}\n",
    "\\end{equation*}"
   ]
  },
  {
   "cell_type": "code",
   "execution_count": 28,
   "metadata": {},
   "outputs": [
    {
     "name": "stdout",
     "output_type": "stream",
     "text": [
      "entrpy: 1.37\n",
      "everage_bits: 2.00\n",
      "Thus the encoding is not well optimized\n"
     ]
    }
   ],
   "source": [
    "#ex\n",
    "import numpy as np\n",
    "import math \n",
    "\n",
    "probs = np.array([0.2,0.2,0.6])\n",
    "\n",
    "entropy = np.inner(probs,np.log2(1/(prob)))\n",
    "print(\"entrpy: %.2f\"%entropy)\n",
    "\n",
    "bits = [2,2,2]\n",
    "everage_bits = np.inner(probs,bits)\n",
    "print(\"everage_bits: %.2f\"%everage_bits)\n",
    "\n",
    "print(\"Thus the encoding is not well optimized\")"
   ]
  },
  {
   "cell_type": "markdown",
   "metadata": {},
   "source": [
    "*KL divergence*\n",
    "\\begin{equation*}\n",
    "{\\displaystyle D_{\\mathrm {KL} }(P\\|Q)=-\\sum _{i}P(i)\\,\\log {\\frac {Q(i)}{P(i)}},}\n",
    "\\end{equation*}\n"
   ]
  },
  {
   "cell_type": "code",
   "execution_count": 47,
   "metadata": {},
   "outputs": [
    {
     "name": "stdout",
     "output_type": "stream",
     "text": [
      "Cost: 0.74\n",
      "True_entropy: 1.00\n",
      "KL_divergence: -0.26\n"
     ]
    }
   ],
   "source": [
    "true_p = [0,0,1]\n",
    "predicted_p = [0.2,0.2,0.6]\n",
    "\n",
    "Cross_entropy = np.inner(true_p,-np.log2(predicted_p))\n",
    "print(\"Cost: %.2f\"%Cross_entropy)\n",
    "True_entropy = np.inner(true_p,true_p)\n",
    "print(\"True_entropy: %.2f\"%True_entropy)\n",
    "print(\"KL_divergence: %.2f\"% (Cross_entropy - True_entropy))"
   ]
  },
  {
   "cell_type": "code",
   "execution_count": null,
   "metadata": {},
   "outputs": [],
   "source": []
  }
 ],
 "metadata": {
  "kernelspec": {
   "display_name": "Python 3",
   "language": "python",
   "name": "py3"
  },
  "language_info": {
   "codemirror_mode": {
    "name": "ipython",
    "version": 3
   },
   "file_extension": ".py",
   "mimetype": "text/x-python",
   "name": "python",
   "nbconvert_exporter": "python",
   "pygments_lexer": "ipython3",
   "version": "3.6.5"
  }
 },
 "nbformat": 4,
 "nbformat_minor": 2
}
