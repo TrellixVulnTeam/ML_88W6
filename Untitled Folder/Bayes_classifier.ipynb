{
 "cells": [
  {
   "cell_type": "code",
   "execution_count": 0,
   "metadata": {},
   "outputs": [],
   "source": [
    "import re\n",
    "from functools import reduce\n",
    "from operator import mul\n",
    "\n",
    "raw = open(\"golf.csv\").read().split(\"\\n\")[:-1]\n",
    "raw = [re.sub(r\"[\\'\\\" ]\",\"\",r).split(\",\") for r in raw]\n",
    "dataset = {c:None for c in raw[0]}\n",
    "[dataset.update({key:values}) for key, values in zip(dataset.keys(), list(zip(*raw[1:])))];\n",
    "\n",
    "def get_param_dict(dataset):\n",
    "    param_dict = {\"prev\":None, \"case_specific_prev\":None}\n",
    "    param_dict[\"prev\"] = {}\n",
    "    param_dict[\"prev\"][\"Yes\"] = sum([1 for y in dataset[\"label\"] if y == \"Yes\"])/\\\n",
    "                        len(dataset[\"label\"])\n",
    "\n",
    "    param_dict[\"prev\"][\"No\"] = sum([1 for y in dataset[\"label\"] if y == \"No\"])/\\\n",
    "                        len(dataset[\"label\"])\n",
    "\n",
    "    \n",
    "    feature_categories = {k:set(v) for k,v in dataset.items()} \n",
    "    param_dict[\"case_specific_prev\"] = {}\n",
    "    for label in set(dataset[\"label\"]):\n",
    "        param_dict[\"case_specific_prev\"].update({label:None})\n",
    "        param_dict[\"case_specific_prev\"][label] = \\\n",
    "        get_prevalance_dict(feature_categories,dataset)\n",
    "    return param_dict\n",
    "            \n",
    "def get_prevalance_dict(feature_categories, dataset):\n",
    "    feature_categories = {k:set(v) for k,v in dataset.items()}\n",
    "    feature_categories.pop(\"label\")\n",
    "    subset = [x_y for x_y in list(zip(*dataset.values())) if x_y[-1] == label]\n",
    "    subset_dict = dict(zip(dataset.keys(),zip(*subset)))\n",
    "    param_dict = {}\n",
    "    for k,v in feature_categories.items():\n",
    "        param_dict[k] = {}\n",
    "        for _v in v:\n",
    "            param_dict[k][_v] = len([1 for x in dataset[k] if x == _v])/len(dataset[k])\n",
    "    return param_dict\n",
    "\n",
    "def multiply(param_dict,y,test_x):\n",
    "    temp = [param_dict[\"case_specific_prev\"][y][x[0]][x[1]] for x in test_x] \n",
    "    return reduce(mul,temp) * param_dict[\"prev\"][y]\n",
    "\n",
    "def test(test_x, param_dict):\n",
    "    test_x = list(zip(test_x.keys(), test_x.values()))\n",
    "    p_data = []\n",
    "    p_numerators = []\n",
    "    for y in param_dict[\"case_specific_prev\"].keys():\n",
    "        p_y_temp = multiply(param_dict,y,test_x)\n",
    "        p_numerators.append(p_y_temp)\n",
    "        p_data.append(p_y_temp)\n",
    "        \n",
    "    p_data = sum(p_data)\n",
    "    return [p_num/p_data for p_num in p_numerators]"
   ]
  },
  {
   "cell_type": "code",
   "execution_count": 246,
   "metadata": {},
   "outputs": [
    {
     "data": {
      "text/plain": [
       "[0.3076923076923077, 0.6923076923076923]"
      ]
     },
     "execution_count": 246,
     "metadata": {},
     "output_type": "execute_result"
    }
   ],
   "source": [
    "param_dict = get_param_dict(dataset)\n",
    "test_x = {'outlook':'Sunny',\n",
    "          'temp':'Hot',\n",
    "          \"humidity\":'High',\n",
    "          \"wind\":'Weak'}\n",
    "test(test_x, param_dict)"
   ]
  },
  {
   "cell_type": "code",
   "execution_count": null,
   "metadata": {},
   "outputs": [],
   "source": []
  },
  {
   "cell_type": "code",
   "execution_count": null,
   "metadata": {},
   "outputs": [],
   "source": []
  }
 ],
 "metadata": {
  "kernelspec": {
   "display_name": "Python 3",
   "language": "python",
   "name": "py3"
  },
  "language_info": {
   "codemirror_mode": {
    "name": "ipython",
    "version": 3
   },
   "file_extension": ".py",
   "mimetype": "text/x-python",
   "name": "python",
   "nbconvert_exporter": "python",
   "pygments_lexer": "ipython3",
   "version": "3.6.5"
  }
 },
 "nbformat": 4,
 "nbformat_minor": 2
}
