{
 "cells": [
  {
   "cell_type": "code",
   "execution_count": 6,
   "metadata": {},
   "outputs": [
    {
     "data": {
      "text/plain": [
       "[<matplotlib.lines.Line2D at 0x10c99e588>]"
      ]
     },
     "execution_count": 6,
     "metadata": {},
     "output_type": "execute_result"
    },
    {
     "data": {
      "image/png": "[encoded data removed]",
      "text/plain": [
       "<matplotlib.figure.Figure at 0x10c9069e8>"
      ]
     },
     "metadata": {},
     "output_type": "display_data"
    }
   ],
   "source": [
    "import numpy as np\n",
    "import math \n",
    "from matplotlib import pyplot as plt\n",
    "\n",
    "def get_gaussian_random():\n",
    "    m = 0\n",
    "    while m == 0:\n",
    "        m = round(np.random.random() * 100)\n",
    "    numbers = np.random.random(int(m))\n",
    "    summation = float(np.sum(numbers))\n",
    "    gaussian = (summation - m/2) / math.sqrt(m/12.0)\n",
    "\n",
    "    return gaussian\n",
    "\n",
    "x =  [get_gaussian_random() for i in range(10000)]\n",
    "sorted_X = sorted(x)\n",
    "plt.plot(sorted_X)"
   ]
  },
  {
   "cell_type": "code",
   "execution_count": 91,
   "metadata": {},
   "outputs": [
    {
     "data": {
      "image/png": "[encoded data removed]",
      "text/plain": [
       "<matplotlib.figure.Figure at 0x10be11da0>"
      ]
     },
     "metadata": {},
     "output_type": "display_data"
    }
   ],
   "source": [
    "import numpy as np\n",
    "from itertools import product\n",
    "from functools import reduce\n",
    "from matplotlib import pyplot as plt \n",
    "%matplotlib inline \n",
    "\n",
    "def multi_gausss(x , cov_mtx, mean_vec):\n",
    "    denominator = (2 * np.pi) * np.linalg.det(cov_mtx)**0.5\n",
    "    numerator = - 0.5 * reduce(lambda A,B: np.matmul(A,B),[(x - mean_vec).T,\n",
    "                                                          np.linalg.inv(cov_mtx),\n",
    "                                                          (x - mean_vec)])\n",
    "    numerator = np.exp(numerator)\n",
    "    prob_x = numerator / denominator\n",
    "    return prob_x\n",
    "\n",
    "def plot_gauss(cov_mtx, mean_vec):\n",
    "    output = np.zeros([10,10])\n",
    "    for r,c in product(range(10),range(10)):\n",
    "        x = np.array([r,c])\n",
    "        output[r][c] = multi_gausss(x, cov_mtx, mean_vec)\n",
    "        \n",
    "    plt.imshow(output)\n",
    "    \n",
    "cov_mtx = np.array([[10,5],[5,10]])\n",
    "mean_vec = np.array([1,1])\n",
    "plot_gauss(cov_mtx, mean_vec)    "
   ]
  },
  {
   "cell_type": "code",
   "execution_count": null,
   "metadata": {},
   "outputs": [],
   "source": []
  }
 ],
 "metadata": {
  "kernelspec": {
   "display_name": "Python 3",
   "language": "python",
   "name": "py3"
  },
  "language_info": {
   "codemirror_mode": {
    "name": "ipython",
    "version": 3
   },
   "file_extension": ".py",
   "mimetype": "text/x-python",
   "name": "python",
   "nbconvert_exporter": "python",
   "pygments_lexer": "ipython3",
   "version": "3.6.5"
  }
 },
 "nbformat": 4,
 "nbformat_minor": 2
}
